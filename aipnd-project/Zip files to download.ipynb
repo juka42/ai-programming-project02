{
 "cells": [
  {
   "cell_type": "code",
   "execution_count": 11,
   "metadata": {},
   "outputs": [
    {
     "data": {
      "text/plain": [
       "'/home'"
      ]
     },
     "execution_count": 11,
     "metadata": {},
     "output_type": "execute_result"
    }
   ],
   "source": [
    "pwd"
   ]
  },
  {
   "cell_type": "code",
   "execution_count": 13,
   "metadata": {},
   "outputs": [
    {
     "data": {
      "text/plain": [
       "'/home'"
      ]
     },
     "execution_count": 13,
     "metadata": {},
     "output_type": "execute_result"
    }
   ],
   "source": [
    "pwd"
   ]
  },
  {
   "cell_type": "code",
   "execution_count": 17,
   "metadata": {},
   "outputs": [
    {
     "name": "stdout",
     "output_type": "stream",
     "text": [
      "/home/workspace\n"
     ]
    }
   ],
   "source": [
    "cd /home/workspace"
   ]
  },
  {
   "cell_type": "code",
   "execution_count": 19,
   "metadata": {},
   "outputs": [
    {
     "name": "stdout",
     "output_type": "stream",
     "text": [
      "total 16\r\n",
      "drwxr-xr-x 4 root root 4096 Nov 29 15:20 \u001b[0m\u001b[01;34m.\u001b[0m/\r\n",
      "drwxr-xr-x 1 root root 4096 Nov 30 14:30 \u001b[01;34m..\u001b[0m/\r\n",
      "drwxr-xr-x 6 root root 4096 Nov 30 14:32 \u001b[01;34maipnd-project\u001b[0m/\r\n",
      "drwxr-xr-x 2 root root 4096 Feb  1  2018 \u001b[01;34m.ipynb_checkpoints\u001b[0m/\r\n"
     ]
    }
   ],
   "source": [
    "ls -la\n"
   ]
  },
  {
   "cell_type": "code",
   "execution_count": 18,
   "metadata": {},
   "outputs": [
    {
     "name": "stdout",
     "output_type": "stream",
     "text": [
      "aipnd-project/\n",
      "aipnd-project/predict.py\n",
      "aipnd-project/image classifier project (branch2).ipynb\n",
      "aipnd-project/Image Classifier Project (branch).ipynb\n",
      "aipnd-project/README.md\n",
      "aipnd-project/assets/\n",
      "aipnd-project/assets/inference_example.png\n",
      "aipnd-project/assets/Flowers.png\n",
      "aipnd-project/train.py\n",
      "aipnd-project/LICENSE\n",
      "aipnd-project/Image Classifier Project.ipynb\n",
      "aipnd-project/checkpoint_densenet_ac78_2020-11-29.pth\n",
      "aipnd-project/cat_to_name.json\n",
      "aipnd-project/Zip files to download.ipynb\n",
      "aipnd-project/flowers\n",
      "aipnd-project/fc_model.py\n",
      "aipnd-project/__pycache__/\n",
      "aipnd-project/__pycache__/fc_model.cpython-36.pyc\n",
      "aipnd-project/.gitignore\n",
      "aipnd-project/checkpoint20201027.pth\n",
      "aipnd-project/Image Classifier Project-zh.ipynb\n",
      "aipnd-project/checkpoint_densenet_ac92_2020-11-29.pth\n",
      "aipnd-project/checkpoint26oct2020.pth\n",
      "aipnd-project/checkpoint.pth\n",
      "aipnd-project/.git/\n",
      "aipnd-project/.git/config\n",
      "aipnd-project/.git/hooks/\n",
      "aipnd-project/.git/hooks/pre-commit.sample\n",
      "aipnd-project/.git/hooks/applypatch-msg.sample\n",
      "aipnd-project/.git/hooks/update.sample\n",
      "aipnd-project/.git/hooks/pre-rebase.sample\n",
      "aipnd-project/.git/hooks/pre-applypatch.sample\n",
      "aipnd-project/.git/hooks/pre-push.sample\n",
      "aipnd-project/.git/hooks/post-update.sample\n",
      "aipnd-project/.git/hooks/commit-msg.sample\n",
      "aipnd-project/.git/hooks/prepare-commit-msg.sample\n",
      "aipnd-project/.git/ORIG_HEAD\n",
      "aipnd-project/.git/branches/\n",
      "aipnd-project/.git/packed-refs\n",
      "aipnd-project/.git/index\n",
      "aipnd-project/.git/description\n",
      "aipnd-project/.git/refs/\n",
      "aipnd-project/.git/refs/tags/\n",
      "aipnd-project/.git/refs/remotes/\n",
      "aipnd-project/.git/refs/remotes/origin/\n",
      "aipnd-project/.git/refs/remotes/origin/master\n",
      "aipnd-project/.git/refs/remotes/origin/HEAD\n",
      "aipnd-project/.git/refs/heads/\n",
      "aipnd-project/.git/refs/heads/master\n",
      "aipnd-project/.git/logs/\n",
      "aipnd-project/.git/logs/refs/\n",
      "aipnd-project/.git/logs/refs/remotes/\n",
      "aipnd-project/.git/logs/refs/remotes/origin/\n",
      "aipnd-project/.git/logs/refs/remotes/origin/master\n",
      "aipnd-project/.git/logs/refs/remotes/origin/HEAD\n",
      "aipnd-project/.git/logs/refs/heads/\n",
      "aipnd-project/.git/logs/refs/heads/master\n",
      "aipnd-project/.git/logs/HEAD\n",
      "aipnd-project/.git/objects/\n",
      "aipnd-project/.git/objects/df/\n",
      "aipnd-project/.git/objects/df/154a2aaa37af1c1a31a198db9eda32e5684d2c\n",
      "aipnd-project/.git/objects/66/\n",
      "aipnd-project/.git/objects/66/f2b1fd5e24630ed8f6d48d07cf2d7a2c109212\n",
      "aipnd-project/.git/objects/5f/\n",
      "aipnd-project/.git/objects/5f/3221ebbdc4b038e50e82d8a3c66da95eecef68\n",
      "aipnd-project/.git/objects/9c/\n",
      "aipnd-project/.git/objects/9c/4db06e5399654c70ea208ec1f4cb337ff12613\n",
      "aipnd-project/.git/objects/03/\n",
      "aipnd-project/.git/objects/03/a39c0c88d1a76eef617eb1c1a4ab9b07314ec8\n",
      "aipnd-project/.git/objects/6a/\n",
      "aipnd-project/.git/objects/6a/e241e80ddf9f93043493ba78fb5dcd8f336ace\n",
      "aipnd-project/.git/objects/ee/\n",
      "aipnd-project/.git/objects/ee/6ffb92f5074d17f346935b47613fb9917f1343\n",
      "aipnd-project/.git/objects/ee/ceeb9d4bd4ca791a0e19643fba891fb76118c5\n",
      "aipnd-project/.git/objects/49/\n",
      "aipnd-project/.git/objects/49/939e772e9a8b09647c88e3699df6ac175cff6d\n",
      "aipnd-project/.git/objects/5b/\n",
      "aipnd-project/.git/objects/5b/05486ec4f0a00f7d63f0f8de8e868518cf4d57\n",
      "aipnd-project/.git/objects/3c/\n",
      "aipnd-project/.git/objects/3c/a23159ce83ad33dd6eae35495d2bfc66838b23\n",
      "aipnd-project/.git/objects/3c/33283c6354bd001cca5086a8b2741a6400f144\n",
      "aipnd-project/.git/objects/dd/\n",
      "aipnd-project/.git/objects/dd/8b08d98f775b7de8266ee0ef85cccc170b9f4f\n",
      "aipnd-project/.git/objects/91/\n",
      "aipnd-project/.git/objects/91/90c93610dbaa55be21c4bcebad727f4ec53100\n",
      "aipnd-project/.git/objects/d2/\n",
      "aipnd-project/.git/objects/d2/f8b8d5317288b23748e3c5069ec7af4c4ad644\n",
      "aipnd-project/.git/objects/64/\n",
      "aipnd-project/.git/objects/64/2ec57bec72cf0ca0f0a1eced4e31b7db56d17c\n",
      "aipnd-project/.git/objects/b2/\n",
      "aipnd-project/.git/objects/b2/73b576e97244e1fe362d30eaf8fdc243f01a0d\n",
      "aipnd-project/.git/objects/89/\n",
      "aipnd-project/.git/objects/89/eeff533e63f4aa135a1e4d3c1c3cb7bdcf738e\n",
      "aipnd-project/.git/objects/7b/\n",
      "aipnd-project/.git/objects/7b/bc71c09205c78d790739d246bbe4f9f1881c17\n",
      "aipnd-project/.git/objects/6e/\n",
      "aipnd-project/.git/objects/6e/a4c9dfbf67b5e2bb93e5b36a01383a568cb4bc\n",
      "aipnd-project/.git/objects/ac/\n",
      "aipnd-project/.git/objects/ac/a89d7d6bab1d69045202bc1ef613eb787ec596\n",
      "aipnd-project/.git/objects/32/\n",
      "aipnd-project/.git/objects/32/e207c03e3051e61eea4bdcc81449b9faf57d44\n",
      "aipnd-project/.git/objects/f5/\n",
      "aipnd-project/.git/objects/f5/ed4b990dcb82714037adbec3e5ec97c75ad7a4\n",
      "aipnd-project/.git/objects/94/\n",
      "aipnd-project/.git/objects/94/906e9f388fb222bf2e108ccdef9bb33b52ae35\n",
      "aipnd-project/.git/objects/51/\n",
      "aipnd-project/.git/objects/51/1e2ec821e26dc766e492f4f32beee14ef22c2f\n",
      "aipnd-project/.git/objects/fd/\n",
      "aipnd-project/.git/objects/fd/4b7d3f9ec99b48ba425dd3dd37edb43ce6394e\n",
      "aipnd-project/.git/objects/87/\n",
      "aipnd-project/.git/objects/87/20f8b81ee23b859b4dc013a33cc66976e668c7\n",
      "aipnd-project/.git/objects/87/e94604e1d140f58c2137fc3b8a0303520154b4\n",
      "aipnd-project/.git/objects/e6/\n",
      "aipnd-project/.git/objects/e6/9de29bb2d1d6434b8b29ae775ad8c2e48c5391\n",
      "aipnd-project/.git/objects/d6/\n",
      "aipnd-project/.git/objects/d6/1ee29c34be09486df538936ab750ce1e9bbdf0\n",
      "aipnd-project/.git/objects/46/\n",
      "aipnd-project/.git/objects/46/a80cbe749b2471adb25a7d1d706b277902b680\n",
      "aipnd-project/.git/objects/46/c9b302b0f5ecc8cd250e23657b4696f0aad45c\n",
      "aipnd-project/.git/objects/info/\n",
      "aipnd-project/.git/objects/11/\n",
      "aipnd-project/.git/objects/11/ad6fe298eeec73c7b9cb7bec2f85903974a208\n",
      "aipnd-project/.git/objects/07/\n",
      "aipnd-project/.git/objects/07/7b1a4608b1538b5a33c8c298322304acec5f9b\n",
      "aipnd-project/.git/objects/48/\n",
      "aipnd-project/.git/objects/48/032f6a1281006da9552094ec3beb62a218e887\n",
      "aipnd-project/.git/objects/2f/\n",
      "aipnd-project/.git/objects/2f/c9e0ef75ebda401b16269a34ce14c3489e6c5f\n",
      "aipnd-project/.git/objects/18/\n",
      "aipnd-project/.git/objects/18/1300e3cc8495155dee3c59240784c587ed3696\n",
      "aipnd-project/.git/objects/41/\n",
      "aipnd-project/.git/objects/41/8ae9dd86e0cf9b2c712888719788a434c3a40f\n",
      "aipnd-project/.git/objects/d0/\n",
      "aipnd-project/.git/objects/d0/672c51a934d404409f882ce138b9fde80a5268\n",
      "aipnd-project/.git/objects/0e/\n",
      "aipnd-project/.git/objects/0e/9e323e356e2d0473a817e64583165a34476226\n",
      "aipnd-project/.git/objects/pack/\n",
      "aipnd-project/.git/HEAD\n",
      "aipnd-project/.git/info/\n",
      "aipnd-project/.git/info/exclude\n",
      "aipnd-project/.git/FETCH_HEAD\n",
      "aipnd-project/.ipynb_checkpoints/\n",
      "aipnd-project/.ipynb_checkpoints/Image Classifier Project (branch)-checkpoint.ipynb\n",
      "aipnd-project/.ipynb_checkpoints/Zip files to download-checkpoint.ipynb\n",
      "aipnd-project/.ipynb_checkpoints/Image Classifier Project-zh-checkpoint.ipynb\n",
      "aipnd-project/.ipynb_checkpoints/.ipynb-checkpoint\n",
      "aipnd-project/.ipynb_checkpoints/image classifier project (branch2)-checkpoint.ipynb\n",
      "aipnd-project/.ipynb_checkpoints/Image Classifier Project-checkpoint.ipynb\n",
      "aipnd-project/checkpoint_densenet_20201029.pth\n",
      "aipnd-project/.ipynb\n",
      "aipnd-project/workspace-utils.py\n",
      "aipnd-project/checkpoint_densenet_20201027.pth\n",
      "aipnd-project/checkpoint_densenet_ac90_2020-11-29.pth\n",
      "aipnd-project/checkpoint_densenet_ac76_2020-11-29.pth\n",
      "tar: aipnd-project: file changed as we read it\n"
     ]
    }
   ],
   "source": [
    "!tar -zcvf aipnd-project/.tar.gz aipnd-project/"
   ]
  },
  {
   "cell_type": "code",
   "execution_count": null,
   "metadata": {},
   "outputs": [],
   "source": []
  }
 ],
 "metadata": {
  "kernelspec": {
   "display_name": "Python 3",
   "language": "python",
   "name": "python3"
  },
  "language_info": {
   "codemirror_mode": {
    "name": "ipython",
    "version": 3
   },
   "file_extension": ".py",
   "mimetype": "text/x-python",
   "name": "python",
   "nbconvert_exporter": "python",
   "pygments_lexer": "ipython3",
   "version": "3.6.3"
  }
 },
 "nbformat": 4,
 "nbformat_minor": 2
}
